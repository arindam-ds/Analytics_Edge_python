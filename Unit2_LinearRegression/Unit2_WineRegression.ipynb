{
 "cells": [
  {
   "cell_type": "markdown",
   "metadata": {},
   "source": [
    "# Import modules"
   ]
  },
  {
   "cell_type": "code",
   "execution_count": 1,
   "metadata": {
    "collapsed": true
   },
   "outputs": [],
   "source": [
    "import numpy as np\n",
    "import pandas as pd \n",
    "import scipy\n",
    "from sklearn.linear_model import LinearRegression"
   ]
  },
  {
   "cell_type": "markdown",
   "metadata": {},
   "source": [
    "## VIDEO 4\n",
    "\n",
    "### Read in data"
   ]
  },
  {
   "cell_type": "code",
   "execution_count": 13,
   "metadata": {
    "collapsed": false,
    "scrolled": true
   },
   "outputs": [
    {
     "name": "stdout",
     "output_type": "stream",
     "text": [
      "   Year   Price  WinterRain     AGST  HarvestRain  Age  FrancePop\n",
      "0  1952  7.4950         600  17.1167          160   31  43183.569\n",
      "1  1953  8.0393         690  16.7333           80   30  43495.030\n",
      "2  1955  7.6858         502  17.1500          130   28  44217.857\n",
      "3  1957  6.9845         420  16.1333          110   26  45152.252\n",
      "4  1958  6.7772         582  16.4167          187   25  45653.805\n",
      "\n",
      "[5 rows x 7 columns]\n",
      "Year             int64\n",
      "Price          float64\n",
      "WinterRain       int64\n",
      "AGST           float64\n",
      "HarvestRain      int64\n",
      "Age              int64\n",
      "FrancePop      float64\n",
      "dtype: object\n",
      "              Year      Price  WinterRain       AGST  HarvestRain        Age  \\\n",
      "count    25.000000  25.000000   25.000000  25.000000    25.000000  25.000000   \n",
      "mean   1965.800000   7.067224  605.280000  16.509336   148.560000  17.200000   \n",
      "std       7.691987   0.650341  132.277965   0.675397    74.419464   7.691987   \n",
      "min    1952.000000   6.204900  376.000000  14.983300    38.000000   5.000000   \n",
      "25%    1960.000000   6.518800  536.000000  16.200000    89.000000  11.000000   \n",
      "50%    1966.000000   7.121100  600.000000  16.533300   130.000000  17.000000   \n",
      "75%    1972.000000   7.495000  697.000000  17.066700   187.000000  23.000000   \n",
      "max    1978.000000   8.493700  830.000000  17.650000   292.000000  31.000000   \n",
      "\n",
      "          FrancePop  \n",
      "count     25.000000  \n",
      "mean   49694.436760  \n",
      "std     3665.270243  \n",
      "min    43183.569000  \n",
      "25%    46583.995000  \n",
      "50%    50254.966000  \n",
      "75%    52894.183000  \n",
      "max    54602.193000  \n",
      "\n",
      "[8 rows x 7 columns]\n",
      "(25, 7)\n"
     ]
    }
   ],
   "source": [
    "wine = pd.read_csv(\"wine.csv\")\n",
    "print(wine.head())\n",
    "print(wine.dtypes)\n",
    "print(wine.describe())\n",
    "print(wine.shape)"
   ]
  },
  {
   "cell_type": "markdown",
   "metadata": {},
   "source": [
    "### Linear Regression (one variable)"
   ]
  },
  {
   "cell_type": "code",
   "execution_count": 9,
   "metadata": {
    "collapsed": false
   },
   "outputs": [
    {
     "name": "stdout",
     "output_type": "stream",
     "text": [
      "-3.41776131349\n",
      "[ 0.63509431]\n",
      "0.4350231678\n"
     ]
    }
   ],
   "source": [
    "feature_cols = ['AGST']\n",
    "X = wine[feature_cols]\n",
    "y = wine.Price\n",
    "model1 = LinearRegression()\n",
    "model1.fit(X, y)\n",
    "LinearRegression(copy_X=True, fit_intercept=True, n_jobs=1, normalize=False)\n",
    "print model1.intercept_\n",
    "print model1.coef_\n",
    "\n",
    "\n",
    "# Sum of Squared Errors\n",
    "print(model1.score(X,y))"
   ]
  },
  {
   "cell_type": "markdown",
   "metadata": {},
   "source": [
    "### Linear Regression (two variables)"
   ]
  },
  {
   "cell_type": "code",
   "execution_count": 10,
   "metadata": {
    "collapsed": false
   },
   "outputs": [
    {
     "name": "stdout",
     "output_type": "stream",
     "text": [
      "-2.20265360095\n",
      "[ 0.60261691 -0.00457006]\n",
      "0.707370766205\n"
     ]
    }
   ],
   "source": [
    "feature_cols = ['AGST', 'HarvestRain']\n",
    "X = wine[feature_cols]\n",
    "y = wine.Price\n",
    "model2 = LinearRegression()\n",
    "model2.fit(X, y)\n",
    "print model2.intercept_\n",
    "print model2.coef_\n",
    "\n",
    "# Sum of Squared Errors\n",
    "print(model2.score(X,y))"
   ]
  },
  {
   "cell_type": "markdown",
   "metadata": {},
   "source": [
    "### Linear Regression (all variables)"
   ]
  },
  {
   "cell_type": "code",
   "execution_count": 11,
   "metadata": {
    "collapsed": false
   },
   "outputs": [
    {
     "name": "stdout",
     "output_type": "stream",
     "text": [
      "-0.450398864395\n",
      "[  6.01223884e-01  -3.95812450e-03   1.04250681e-03   5.84748489e-04\n",
      "  -4.95273038e-05]\n",
      "0.82935922233\n"
     ]
    }
   ],
   "source": [
    "feature_cols = ['AGST', 'HarvestRain', 'WinterRain', 'Age', 'FrancePop']\n",
    "X = wine[feature_cols]\n",
    "y = wine.Price\n",
    "model3 = LinearRegression()\n",
    "model3.fit(X, y)\n",
    "print model3.intercept_\n",
    "print model3.coef_\n",
    "\n",
    "# Sum of Squared Errors\n",
    "print(model3.score(X,y))"
   ]
  },
  {
   "cell_type": "code",
   "execution_count": null,
   "metadata": {
    "collapsed": true
   },
   "outputs": [],
   "source": []
  }
 ],
 "metadata": {
  "kernelspec": {
   "display_name": "Python 2",
   "language": "python",
   "name": "python2"
  },
  "language_info": {
   "codemirror_mode": {
    "name": "ipython",
    "version": 2
   },
   "file_extension": ".py",
   "mimetype": "text/x-python",
   "name": "python",
   "nbconvert_exporter": "python",
   "pygments_lexer": "ipython2",
   "version": "2.7.6"
  }
 },
 "nbformat": 4,
 "nbformat_minor": 1
}
