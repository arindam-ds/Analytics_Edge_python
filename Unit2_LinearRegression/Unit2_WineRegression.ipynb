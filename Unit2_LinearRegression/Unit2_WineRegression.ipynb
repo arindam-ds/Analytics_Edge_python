{
 "cells": [
  {
   "cell_type": "markdown",
   "metadata": {},
   "source": [
    "# Import modules"
   ]
  },
  {
   "cell_type": "code",
   "execution_count": 1,
   "metadata": {
    "collapsed": true
   },
   "outputs": [],
   "source": [
    "import numpy as np\n",
    "import pandas as pd \n",
    "import scipy\n",
    "from sklearn.linear_model import LinearRegression"
   ]
  },
  {
   "cell_type": "markdown",
   "metadata": {},
   "source": [
    "## VIDEO 4\n",
    "\n",
    "### Read in data"
   ]
  },
  {
   "cell_type": "code",
   "execution_count": 13,
   "metadata": {
    "collapsed": false,
    "scrolled": true
   },
   "outputs": [
    {
     "name": "stdout",
     "output_type": "stream",
     "text": [
      "   Year   Price  WinterRain     AGST  HarvestRain  Age  FrancePop\n",
      "0  1952  7.4950         600  17.1167          160   31  43183.569\n",
      "1  1953  8.0393         690  16.7333           80   30  43495.030\n",
      "2  1955  7.6858         502  17.1500          130   28  44217.857\n",
      "3  1957  6.9845         420  16.1333          110   26  45152.252\n",
      "4  1958  6.7772         582  16.4167          187   25  45653.805\n",
      "\n",
      "[5 rows x 7 columns]\n",
      "Year             int64\n",
      "Price          float64\n",
      "WinterRain       int64\n",
      "AGST           float64\n",
      "HarvestRain      int64\n",
      "Age              int64\n",
      "FrancePop      float64\n",
      "dtype: object\n",
      "              Year      Price  WinterRain       AGST  HarvestRain        Age  \\\n",
      "count    25.000000  25.000000   25.000000  25.000000    25.000000  25.000000   \n",
      "mean   1965.800000   7.067224  605.280000  16.509336   148.560000  17.200000   \n",
      "std       7.691987   0.650341  132.277965   0.675397    74.419464   7.691987   \n",
      "min    1952.000000   6.204900  376.000000  14.983300    38.000000   5.000000   \n",
      "25%    1960.000000   6.518800  536.000000  16.200000    89.000000  11.000000   \n",
      "50%    1966.000000   7.121100  600.000000  16.533300   130.000000  17.000000   \n",
      "75%    1972.000000   7.495000  697.000000  17.066700   187.000000  23.000000   \n",
      "max    1978.000000   8.493700  830.000000  17.650000   292.000000  31.000000   \n",
      "\n",
      "          FrancePop  \n",
      "count     25.000000  \n",
      "mean   49694.436760  \n",
      "std     3665.270243  \n",
      "min    43183.569000  \n",
      "25%    46583.995000  \n",
      "50%    50254.966000  \n",
      "75%    52894.183000  \n",
      "max    54602.193000  \n",
      "\n",
      "[8 rows x 7 columns]\n",
      "(25, 7)\n"
     ]
    }
   ],
   "source": [
    "wine = pd.read_csv(\"wine.csv\")\n",
    "print(wine.head())\n",
    "print(wine.dtypes)\n",
    "print(wine.describe())\n",
    "print(wine.shape)"
   ]
  },
  {
   "cell_type": "markdown",
   "metadata": {},
   "source": [
    "### Linear Regression (one variable)"
   ]
  },
  {
   "cell_type": "code",
   "execution_count": 9,
   "metadata": {
    "collapsed": false
   },
   "outputs": [
    {
     "name": "stdout",
     "output_type": "stream",
     "text": [
      "-3.41776131349\n",
      "[ 0.63509431]\n",
      "0.4350231678\n"
     ]
    }
   ],
   "source": [
    "feature_cols = ['AGST']\n",
    "X = wine[feature_cols]\n",
    "y = wine.Price\n",
    "model1 = LinearRegression()\n",
    "model1.fit(X, y)\n",
    "LinearRegression(copy_X=True, fit_intercept=True, n_jobs=1, normalize=False)\n",
    "print model1.intercept_\n",
    "print model1.coef_\n",
    "\n",
    "\n",
    "# Sum of Squared Errors\n",
    "print(model1.score(X,y))"
   ]
  },
  {
   "cell_type": "markdown",
   "metadata": {},
   "source": [
    "### Linear Regression (two variables)"
   ]
  },
  {
   "cell_type": "code",
   "execution_count": 22,
   "metadata": {
    "collapsed": false
   },
   "outputs": [
    {
     "name": "stdout",
     "output_type": "stream",
     "text": [
      "-2.20265360095\n",
      "[ 0.60261691 -0.00457006]\n",
      "0.707370766205\n"
     ]
    }
   ],
   "source": [
    "feature_cols = ['AGST', 'HarvestRain']\n",
    "X = wine[feature_cols]\n",
    "y = wine.Price\n",
    "model2 = LinearRegression()\n",
    "model2.fit(X, y)\n",
    "LinearRegression(copy_X=True, fit_intercept=True, n_jobs=1, normalize=False)\n",
    "print model2.intercept_\n",
    "print model2.coef_\n",
    "\n",
    "# Sum of Squared Errors\n",
    "print(model2.score(X,y))"
   ]
  },
  {
   "cell_type": "markdown",
   "metadata": {},
   "source": [
    "### Linear Regression (all variables)"
   ]
  },
  {
   "cell_type": "code",
   "execution_count": 23,
   "metadata": {
    "collapsed": false
   },
   "outputs": [
    {
     "name": "stdout",
     "output_type": "stream",
     "text": [
      "-0.450398864395\n",
      "[  6.01223884e-01  -3.95812450e-03   1.04250681e-03   5.84748489e-04\n",
      "  -4.95273038e-05]\n",
      "0.82935922233\n"
     ]
    }
   ],
   "source": [
    "feature_cols = ['AGST', 'HarvestRain', 'WinterRain', 'Age', 'FrancePop']\n",
    "X = wine[feature_cols]\n",
    "y = wine.Price\n",
    "model3 = LinearRegression()\n",
    "model3.fit(X, y)\n",
    "LinearRegression(copy_X=True, fit_intercept=True, n_jobs=1, normalize=False)\n",
    "print model3.intercept_\n",
    "print model3.coef_\n",
    "\n",
    "# Sum of Squared Errors\n",
    "print(model3.score(X,y))"
   ]
  },
  {
   "cell_type": "markdown",
   "metadata": {},
   "source": [
    "## VIDEO 5\n",
    "\n",
    "### Remove FrancePop"
   ]
  },
  {
   "cell_type": "code",
   "execution_count": 24,
   "metadata": {
    "collapsed": false
   },
   "outputs": [
    {
     "name": "stdout",
     "output_type": "stream",
     "text": [
      "-3.42998018693\n",
      "[ 0.60720935 -0.00397153  0.00107551  0.02393083]\n",
      "0.828566219342\n"
     ]
    }
   ],
   "source": [
    "feature_cols = ['AGST', 'HarvestRain', 'WinterRain', 'Age']\n",
    "X = wine[feature_cols]\n",
    "y = wine.Price\n",
    "model4 = LinearRegression()\n",
    "model4.fit(X, y)\n",
    "LinearRegression(copy_X=True, fit_intercept=True, n_jobs=1, normalize=False)\n",
    "print model4.intercept_\n",
    "print model4.coef_\n",
    "\n",
    "# Sum of Squared Errors\n",
    "print(model4.score(X,y))"
   ]
  },
  {
   "cell_type": "markdown",
   "metadata": {},
   "source": [
    "## VIDEO 6\n",
    "\n",
    "### Correlations\n"
   ]
  },
  {
   "cell_type": "code",
   "execution_count": 30,
   "metadata": {
    "collapsed": false
   },
   "outputs": [
    {
     "name": "stdout",
     "output_type": "stream",
     "text": [
      "0.136650547388\n",
      "-0.994485097111\n",
      "-0.994485097111\n",
      "-1.0\n",
      "-1.0\n"
     ]
    },
    {
     "data": {
      "text/html": [
       "<div style=\"max-height:1000px;max-width:1500px;overflow:auto;\">\n",
       "<table border=\"1\" class=\"dataframe\">\n",
       "  <thead>\n",
       "    <tr style=\"text-align: right;\">\n",
       "      <th></th>\n",
       "      <th>Year</th>\n",
       "      <th>Price</th>\n",
       "      <th>WinterRain</th>\n",
       "      <th>AGST</th>\n",
       "      <th>HarvestRain</th>\n",
       "      <th>Age</th>\n",
       "      <th>FrancePop</th>\n",
       "    </tr>\n",
       "  </thead>\n",
       "  <tbody>\n",
       "    <tr>\n",
       "      <th>Year</th>\n",
       "      <td> 1.000000</td>\n",
       "      <td>-0.447768</td>\n",
       "      <td> 0.016970</td>\n",
       "      <td>-0.246916</td>\n",
       "      <td> 0.028009</td>\n",
       "      <td>-1.000000</td>\n",
       "      <td> 0.994485</td>\n",
       "    </tr>\n",
       "    <tr>\n",
       "      <th>Price</th>\n",
       "      <td>-0.447768</td>\n",
       "      <td> 1.000000</td>\n",
       "      <td> 0.136651</td>\n",
       "      <td> 0.659563</td>\n",
       "      <td>-0.563322</td>\n",
       "      <td> 0.447768</td>\n",
       "      <td>-0.466862</td>\n",
       "    </tr>\n",
       "    <tr>\n",
       "      <th>WinterRain</th>\n",
       "      <td> 0.016970</td>\n",
       "      <td> 0.136651</td>\n",
       "      <td> 1.000000</td>\n",
       "      <td>-0.321091</td>\n",
       "      <td>-0.275441</td>\n",
       "      <td>-0.016970</td>\n",
       "      <td>-0.001622</td>\n",
       "    </tr>\n",
       "    <tr>\n",
       "      <th>AGST</th>\n",
       "      <td>-0.246916</td>\n",
       "      <td> 0.659563</td>\n",
       "      <td>-0.321091</td>\n",
       "      <td> 1.000000</td>\n",
       "      <td>-0.064496</td>\n",
       "      <td> 0.246916</td>\n",
       "      <td>-0.259162</td>\n",
       "    </tr>\n",
       "    <tr>\n",
       "      <th>HarvestRain</th>\n",
       "      <td> 0.028009</td>\n",
       "      <td>-0.563322</td>\n",
       "      <td>-0.275441</td>\n",
       "      <td>-0.064496</td>\n",
       "      <td> 1.000000</td>\n",
       "      <td>-0.028009</td>\n",
       "      <td> 0.041264</td>\n",
       "    </tr>\n",
       "    <tr>\n",
       "      <th>Age</th>\n",
       "      <td>-1.000000</td>\n",
       "      <td> 0.447768</td>\n",
       "      <td>-0.016970</td>\n",
       "      <td> 0.246916</td>\n",
       "      <td>-0.028009</td>\n",
       "      <td> 1.000000</td>\n",
       "      <td>-0.994485</td>\n",
       "    </tr>\n",
       "    <tr>\n",
       "      <th>FrancePop</th>\n",
       "      <td> 0.994485</td>\n",
       "      <td>-0.466862</td>\n",
       "      <td>-0.001622</td>\n",
       "      <td>-0.259162</td>\n",
       "      <td> 0.041264</td>\n",
       "      <td>-0.994485</td>\n",
       "      <td> 1.000000</td>\n",
       "    </tr>\n",
       "  </tbody>\n",
       "</table>\n",
       "<p>7 rows × 7 columns</p>\n",
       "</div>"
      ],
      "text/plain": [
       "                 Year     Price  WinterRain      AGST  HarvestRain       Age  \\\n",
       "Year         1.000000 -0.447768    0.016970 -0.246916     0.028009 -1.000000   \n",
       "Price       -0.447768  1.000000    0.136651  0.659563    -0.563322  0.447768   \n",
       "WinterRain   0.016970  0.136651    1.000000 -0.321091    -0.275441 -0.016970   \n",
       "AGST        -0.246916  0.659563   -0.321091  1.000000    -0.064496  0.246916   \n",
       "HarvestRain  0.028009 -0.563322   -0.275441 -0.064496     1.000000 -0.028009   \n",
       "Age         -1.000000  0.447768   -0.016970  0.246916    -0.028009  1.000000   \n",
       "FrancePop    0.994485 -0.466862   -0.001622 -0.259162     0.041264 -0.994485   \n",
       "\n",
       "             FrancePop  \n",
       "Year          0.994485  \n",
       "Price        -0.466862  \n",
       "WinterRain   -0.001622  \n",
       "AGST         -0.259162  \n",
       "HarvestRain   0.041264  \n",
       "Age          -0.994485  \n",
       "FrancePop     1.000000  \n",
       "\n",
       "[7 rows x 7 columns]"
      ]
     },
     "execution_count": 30,
     "metadata": {},
     "output_type": "execute_result"
    }
   ],
   "source": [
    "print(wine.corr().ix['WinterRain', 'Price'])\n",
    "print(wine.corr().ix['Age', 'FrancePop'])\n",
    "\n",
    "#other way to calculate pandas.dataframe.corr \n",
    "\n",
    "print(wine['Age'].corr(wine['FrancePop'])) # default method 'pearson'\n",
    "print(wine['Age'].corr(wine['FrancePop'], method='spearman'))\n",
    "print(wine['Age'].corr(wine['FrancePop'], method='kendall'))\n",
    "wine.corr()"
   ]
  },
  {
   "cell_type": "markdown",
   "metadata": {},
   "source": [
    "### Remove Age and FrancePop\n",
    "model5 = lm(Price ~ AGST + HarvestRain + WinterRain, data=wine)\n",
    "summary(model5)"
   ]
  },
  {
   "cell_type": "code",
   "execution_count": 25,
   "metadata": {
    "collapsed": false
   },
   "outputs": [
    {
     "name": "stdout",
     "output_type": "stream",
     "text": [
      "-4.30162626004\n",
      "[ 0.68102417 -0.00394815  0.00117653]\n",
      "0.753689442638\n"
     ]
    }
   ],
   "source": [
    "feature_cols = ['AGST', 'HarvestRain', 'WinterRain']\n",
    "X = wine[feature_cols]\n",
    "y = wine.Price\n",
    "model5 = LinearRegression()\n",
    "model5.fit(X, y)\n",
    "LinearRegression(copy_X=True, fit_intercept=True, n_jobs=1, normalize=False)\n",
    "print model5.intercept_\n",
    "print model5.coef_\n",
    "\n",
    "# Sum of Squared Errors\n",
    "print(model5.score(X,y))"
   ]
  },
  {
   "cell_type": "markdown",
   "metadata": {},
   "source": [
    "## VIDEO 7\n",
    "\n",
    "### Read in test set\n"
   ]
  },
  {
   "cell_type": "code",
   "execution_count": 55,
   "metadata": {
    "collapsed": false
   },
   "outputs": [
    {
     "name": "stdout",
     "output_type": "stream",
     "text": [
      "   Year   Price  WinterRain     AGST  HarvestRain  Age  FrancePop\n",
      "0  1979  6.9541         717  16.1667          122    4  54835.832\n",
      "1  1980  6.4979         578  16.0000           74    3  55110.236\n",
      "\n",
      "[2 rows x 7 columns]\n",
      "Year             int64\n",
      "Price          float64\n",
      "WinterRain       int64\n",
      "AGST           float64\n",
      "HarvestRain      int64\n",
      "Age              int64\n",
      "FrancePop      float64\n",
      "dtype: object\n",
      "              Year     Price  WinterRain       AGST  HarvestRain       Age  \\\n",
      "count     2.000000  2.000000    2.000000   2.000000     2.000000  2.000000   \n",
      "mean   1979.500000  6.726000  647.500000  16.083350    98.000000  3.500000   \n",
      "std       0.707107  0.322582   98.287843   0.117875    33.941125  0.707107   \n",
      "min    1979.000000  6.497900  578.000000  16.000000    74.000000  3.000000   \n",
      "25%    1979.250000  6.611950  612.750000  16.041675    86.000000  3.250000   \n",
      "50%    1979.500000  6.726000  647.500000  16.083350    98.000000  3.500000   \n",
      "75%    1979.750000  6.840050  682.250000  16.125025   110.000000  3.750000   \n",
      "max    1980.000000  6.954100  717.000000  16.166700   122.000000  4.000000   \n",
      "\n",
      "          FrancePop  \n",
      "count      2.000000  \n",
      "mean   54973.034000  \n",
      "std      194.032929  \n",
      "min    54835.832000  \n",
      "25%    54904.433000  \n",
      "50%    54973.034000  \n",
      "75%    55041.635000  \n",
      "max    55110.236000  \n",
      "\n",
      "[8 rows x 7 columns]\n",
      "(2, 7)\n"
     ]
    }
   ],
   "source": [
    "wineTest = pd.read_csv(\"wine_test.csv\")\n",
    "print(wineTest.head())\n",
    "print(wineTest.dtypes)\n",
    "print(wineTest.describe())\n",
    "print(wineTest.shape)"
   ]
  },
  {
   "cell_type": "markdown",
   "metadata": {},
   "source": [
    "### Make test set predictions\n"
   ]
  },
  {
   "cell_type": "code",
   "execution_count": 62,
   "metadata": {
    "collapsed": false
   },
   "outputs": [
    {
     "name": "stdout",
     "output_type": "stream",
     "text": [
      "Predicted: 6.76892462968, Target: 6.9541\n",
      "Predicted: 6.68491040269, Target: 6.4979\n"
     ]
    }
   ],
   "source": [
    "feature_cols = ['AGST', 'HarvestRain', 'WinterRain', 'Age']\n",
    "Test_X = wineTest[feature_cols]\n",
    "Test_y = wineTest.Price\n",
    "\n",
    "predictions = model4.predict(Test_X)\n",
    "\n",
    "for i, prediction in enumerate(predictions):\n",
    "    print 'Predicted: %s, Target: %s' % (prediction, Test_y[i])\n",
    "    "
   ]
  },
  {
   "cell_type": "markdown",
   "metadata": {},
   "source": [
    "\n",
    "### Compute R-squared"
   ]
  },
  {
   "cell_type": "code",
   "execution_count": 63,
   "metadata": {
    "collapsed": false
   },
   "outputs": [
    {
     "name": "stdout",
     "output_type": "stream",
     "text": [
      "R-squared: 0.33\n"
     ]
    }
   ],
   "source": [
    "print 'R-squared: %.2f' % model4.score(Test_X, Test_y)"
   ]
  },
  {
   "cell_type": "code",
   "execution_count": null,
   "metadata": {
    "collapsed": true
   },
   "outputs": [],
   "source": []
  }
 ],
 "metadata": {
  "kernelspec": {
   "display_name": "Python 2",
   "language": "python",
   "name": "python2"
  },
  "language_info": {
   "codemirror_mode": {
    "name": "ipython",
    "version": 2
   },
   "file_extension": ".py",
   "mimetype": "text/x-python",
   "name": "python",
   "nbconvert_exporter": "python",
   "pygments_lexer": "ipython2",
   "version": "2.7.6"
  }
 },
 "nbformat": 4,
 "nbformat_minor": 1
}
